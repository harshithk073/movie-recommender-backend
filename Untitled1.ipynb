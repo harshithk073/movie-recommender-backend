{
 "cells": [
  {
   "cell_type": "code",
   "execution_count": 1,
   "id": "0fcb946f",
   "metadata": {},
   "outputs": [
    {
     "name": "stdout",
     "output_type": "stream",
     "text": [
      "{'recommendations': [{'director': 'Vicky Jenson', 'genres': 'Animation Action Comedy Family', 'overview': \"Oscar is a small fish whose big aspirations often get him into trouble. Meanwhile, Lenny is a great white shark with a surprising secret that no sea creature would guess: He's a vegetarian. When a lie turns Oscar into an improbable hero and Lenny becomes an outcast, the two form an unlikely friendship.\", 'rating': 5.8, 'tagline': 'The story of what happens when one little fish tells a great white lie...', 'title': 'Shark Tale', 'year': '2004'}, {'director': 'Tim Burton', 'genres': 'Adventure Fantasy Drama', 'overview': 'Throughout his life Edward Bloom has always been a man of big appetites, enormous passions and tall tales. In his later years, he remains a huge mystery to his son, William. Now, to get to know the real man, Will begins piecing together a true picture of his father from flashbacks of his amazing adventures.', 'rating': 7.6, 'tagline': 'An adventure as big as life itself.', 'title': 'Big Fish', 'year': '2003'}, {'director': 'Andrew Stanton', 'genres': 'Action Adventure Science Fiction', 'overview': \"John Carter is a war-weary, former military captain who's inexplicably transported to the mysterious and exotic planet of Barsoom (Mars) and reluctantly becomes embroiled in an epic conflict. It's a world on the brink of collapse, and Carter rediscovers his humanity when he realizes the survival of Barsoom and its people rests in his hands.\", 'rating': 6.1, 'tagline': 'Lost in our world, found in another.', 'title': 'John Carter', 'year': '2012'}, {'director': 'Albert Brooks', 'genres': 'Fantasy Comedy', 'overview': 'What happens when a screenwriter (Brooks) loses his edge, he turns to anyone he can for help... even if it\\'s the mythical \"Zeus\\'s Daughter\" (Stone). And he\\'s willing to pay, albeit reluctantly, whatever price it takes to satisfy this goddess, especially when her advice gets him going again on a sure-fire script. However, this is not the limit of her help, she also gets the writer\\'s wife (MacDowell) going on her own bakery enterprise, much to the chagrin of Brooks, who has already had to make many personal sacrifices for his own help.', 'rating': 5.3, 'tagline': 'In Goddess we trust.', 'title': 'The Muse', 'year': '1999'}, {'director': 'Tom McGrath', 'genres': 'Animation Action Comedy Family Science Fiction', 'overview': 'Bumbling supervillain Megamind finally defeats his nemesis, the superhero Metro Man. But without a hero, he loses all purpose and must find new meaning to his life.', 'rating': 6.7, 'tagline': 'His brain is off the chain.', 'title': 'Megamind', 'year': '2010'}]}\n"
     ]
    }
   ],
   "source": [
    "import requests\n",
    "response = requests.post('http://localhost:5000/recommend', json={'movie_title': 'finding nemo'})\n",
    "print(response.json())\n"
   ]
  },
  {
   "cell_type": "code",
   "execution_count": null,
   "id": "8d3cf713",
   "metadata": {},
   "outputs": [],
   "source": []
  }
 ],
 "metadata": {
  "kernelspec": {
   "display_name": "Python 3 (ipykernel)",
   "language": "python",
   "name": "python3"
  },
  "language_info": {
   "codemirror_mode": {
    "name": "ipython",
    "version": 3
   },
   "file_extension": ".py",
   "mimetype": "text/x-python",
   "name": "python",
   "nbconvert_exporter": "python",
   "pygments_lexer": "ipython3",
   "version": "3.9.13"
  }
 },
 "nbformat": 4,
 "nbformat_minor": 5
}
