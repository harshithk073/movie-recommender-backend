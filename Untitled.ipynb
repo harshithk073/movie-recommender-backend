{
 "cells": [
  {
   "cell_type": "code",
   "execution_count": 1,
   "id": "ce4f927f",
   "metadata": {},
   "outputs": [
    {
     "name": "stdout",
     "output_type": "stream",
     "text": [
      "Requirement already satisfied: Flask in c:\\users\\asus\\appdata\\roaming\\python\\python39\\site-packages (3.1.1)\n",
      "Requirement already satisfied: blinker>=1.9.0 in c:\\users\\asus\\appdata\\roaming\\python\\python39\\site-packages (from Flask) (1.9.0)\n",
      "Requirement already satisfied: itsdangerous>=2.2.0 in c:\\users\\asus\\appdata\\roaming\\python\\python39\\site-packages (from Flask) (2.2.0)\n",
      "Requirement already satisfied: importlib-metadata>=3.6.0 in c:\\users\\asus\\anaconda3\\lib\\site-packages (from Flask) (8.4.0)\n",
      "Requirement already satisfied: jinja2>=3.1.2 in c:\\users\\asus\\anaconda3\\lib\\site-packages (from Flask) (3.1.3)\n",
      "Requirement already satisfied: markupsafe>=2.1.1 in c:\\users\\asus\\anaconda3\\lib\\site-packages (from Flask) (3.0.2)\n",
      "Requirement already satisfied: werkzeug>=3.1.0 in c:\\users\\asus\\appdata\\roaming\\python\\python39\\site-packages (from Flask) (3.1.3)\n",
      "Requirement already satisfied: click>=8.1.3 in c:\\users\\asus\\appdata\\roaming\\python\\python39\\site-packages (from Flask) (8.1.8)\n",
      "Requirement already satisfied: colorama in c:\\users\\asus\\anaconda3\\lib\\site-packages (from click>=8.1.3->Flask) (0.4.5)\n",
      "Requirement already satisfied: zipp>=0.5 in c:\\users\\asus\\anaconda3\\lib\\site-packages (from importlib-metadata>=3.6.0->Flask) (3.8.0)\n",
      "Requirement already satisfied: MarkupSafe in c:\\users\\asus\\anaconda3\\lib\\site-packages (3.0.2)\n"
     ]
    }
   ],
   "source": [
    "!pip install --upgrade Flask --user\n",
    "!pip install --upgrade MarkupSafe --user\n"
   ]
  },
  {
   "cell_type": "code",
   "execution_count": null,
   "id": "8202a87e",
   "metadata": {},
   "outputs": [],
   "source": [
    "!python api.py\n"
   ]
  },
  {
   "cell_type": "code",
   "execution_count": 1,
   "id": "b37f4cc6",
   "metadata": {},
   "outputs": [
    {
     "name": "stdout",
     "output_type": "stream",
     "text": [
      "Requirement already satisfied: flask-cors in c:\\users\\asus\\anaconda3\\lib\\site-packages (6.0.1)\n",
      "Requirement already satisfied: flask>=0.9 in c:\\users\\asus\\appdata\\roaming\\python\\python39\\site-packages (from flask-cors) (3.1.1)\n",
      "Requirement already satisfied: Werkzeug>=0.7 in c:\\users\\asus\\appdata\\roaming\\python\\python39\\site-packages (from flask-cors) (3.1.3)\n",
      "Requirement already satisfied: importlib-metadata>=3.6.0 in c:\\users\\asus\\anaconda3\\lib\\site-packages (from flask>=0.9->flask-cors) (8.4.0)\n",
      "Requirement already satisfied: jinja2>=3.1.2 in c:\\users\\asus\\anaconda3\\lib\\site-packages (from flask>=0.9->flask-cors) (3.1.3)\n",
      "Requirement already satisfied: markupsafe>=2.1.1 in c:\\users\\asus\\anaconda3\\lib\\site-packages (from flask>=0.9->flask-cors) (3.0.2)\n",
      "Requirement already satisfied: click>=8.1.3 in c:\\users\\asus\\appdata\\roaming\\python\\python39\\site-packages (from flask>=0.9->flask-cors) (8.1.8)\n",
      "Requirement already satisfied: itsdangerous>=2.2.0 in c:\\users\\asus\\appdata\\roaming\\python\\python39\\site-packages (from flask>=0.9->flask-cors) (2.2.0)\n",
      "Requirement already satisfied: blinker>=1.9.0 in c:\\users\\asus\\appdata\\roaming\\python\\python39\\site-packages (from flask>=0.9->flask-cors) (1.9.0)\n",
      "Requirement already satisfied: colorama in c:\\users\\asus\\anaconda3\\lib\\site-packages (from click>=8.1.3->flask>=0.9->flask-cors) (0.4.5)\n",
      "Requirement already satisfied: zipp>=0.5 in c:\\users\\asus\\anaconda3\\lib\\site-packages (from importlib-metadata>=3.6.0->flask>=0.9->flask-cors) (3.8.0)\n"
     ]
    }
   ],
   "source": [
    "!pip install flask-cors\n"
   ]
  },
  {
   "cell_type": "code",
   "execution_count": null,
   "id": "64f6831c",
   "metadata": {},
   "outputs": [],
   "source": [
    "!python api.py\n"
   ]
  },
  {
   "cell_type": "code",
   "execution_count": null,
   "id": "f2dbfd25",
   "metadata": {},
   "outputs": [],
   "source": []
  }
 ],
 "metadata": {
  "kernelspec": {
   "display_name": "Python 3 (ipykernel)",
   "language": "python",
   "name": "python3"
  },
  "language_info": {
   "codemirror_mode": {
    "name": "ipython",
    "version": 3
   },
   "file_extension": ".py",
   "mimetype": "text/x-python",
   "name": "python",
   "nbconvert_exporter": "python",
   "pygments_lexer": "ipython3",
   "version": "3.9.13"
  }
 },
 "nbformat": 4,
 "nbformat_minor": 5
}
